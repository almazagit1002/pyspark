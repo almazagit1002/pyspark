{
 "cells": [
  {
   "cell_type": "code",
   "execution_count": 1,
   "metadata": {},
   "outputs": [],
   "source": [
    "from pyspark.sql import SparkSession\n",
    "import os\n",
    "os.environ[\"JAVA_HOME\"] = \"C:\\Program Files\\Java\\jdk-22\""
   ]
  },
  {
   "cell_type": "code",
   "execution_count": 2,
   "metadata": {},
   "outputs": [],
   "source": [
    "spark = SparkSession.builder.appName('Missing').getOrCreate()"
   ]
  },
  {
   "cell_type": "code",
   "execution_count": 3,
   "metadata": {},
   "outputs": [],
   "source": [
    "## Read the dataset\n",
    "training = spark.read.csv('aggregations.csv',header=True,inferSchema=True)"
   ]
  },
  {
   "cell_type": "code",
   "execution_count": 4,
   "metadata": {},
   "outputs": [
    {
     "name": "stdout",
     "output_type": "stream",
     "text": [
      "+--------+---+----------+------+--------------------+\n",
      "|    Name|Age|Experience|Salary|          Department|\n",
      "+--------+---+----------+------+--------------------+\n",
      "|    John| 25|         7| 20000|        Data Science|\n",
      "| Michael| 28|         9|  8000|    Data Engineering|\n",
      "|   David| 40|         8| 25000|Software Engineering|\n",
      "|  Rachel| 29|         6| 18000|  Product Management|\n",
      "|Jennifer| 31|        10| 12000|Research and Deve...|\n",
      "|    John| 25|        10| 25000|        Data Science|\n",
      "| Michael| 28|        12| 12000|    Data Engineering|\n",
      "|   David| 40|        11| 35000|Software Engineering|\n",
      "|  Rachel| 29|         9| 25000|  Product Management|\n",
      "|Jennifer| 31|        13| 18000|Research and Deve...|\n",
      "+--------+---+----------+------+--------------------+\n",
      "\n"
     ]
    }
   ],
   "source": [
    "training.show()"
   ]
  },
  {
   "cell_type": "code",
   "execution_count": 6,
   "metadata": {},
   "outputs": [
    {
     "name": "stdout",
     "output_type": "stream",
     "text": [
      "root\n",
      " |-- Name: string (nullable = true)\n",
      " |-- Age: integer (nullable = true)\n",
      " |-- Experience: integer (nullable = true)\n",
      " |-- Salary: integer (nullable = true)\n",
      " |-- Department: string (nullable = true)\n",
      "\n"
     ]
    }
   ],
   "source": [
    "training.printSchema()"
   ]
  },
  {
   "cell_type": "code",
   "execution_count": 7,
   "metadata": {},
   "outputs": [
    {
     "data": {
      "text/plain": [
       "['Name', 'Age', 'Experience', 'Salary', 'Department']"
      ]
     },
     "execution_count": 7,
     "metadata": {},
     "output_type": "execute_result"
    }
   ],
   "source": [
    "training.columns"
   ]
  },
  {
   "cell_type": "code",
   "execution_count": 8,
   "metadata": {},
   "outputs": [],
   "source": [
    "from pyspark.ml.feature import VectorAssembler\n",
    "featureassembler  =VectorAssembler(inputCols=['Age','Experience'],outputCol='Independent Features')"
   ]
  },
  {
   "cell_type": "code",
   "execution_count": 9,
   "metadata": {},
   "outputs": [],
   "source": [
    "output = featureassembler.transform(training)"
   ]
  },
  {
   "cell_type": "code",
   "execution_count": 10,
   "metadata": {},
   "outputs": [
    {
     "name": "stdout",
     "output_type": "stream",
     "text": [
      "+--------+---+----------+------+--------------------+--------------------+\n",
      "|    Name|Age|Experience|Salary|          Department|Independent Features|\n",
      "+--------+---+----------+------+--------------------+--------------------+\n",
      "|    John| 25|         7| 20000|        Data Science|          [25.0,7.0]|\n",
      "| Michael| 28|         9|  8000|    Data Engineering|          [28.0,9.0]|\n",
      "|   David| 40|         8| 25000|Software Engineering|          [40.0,8.0]|\n",
      "|  Rachel| 29|         6| 18000|  Product Management|          [29.0,6.0]|\n",
      "|Jennifer| 31|        10| 12000|Research and Deve...|         [31.0,10.0]|\n",
      "|    John| 25|        10| 25000|        Data Science|         [25.0,10.0]|\n",
      "| Michael| 28|        12| 12000|    Data Engineering|         [28.0,12.0]|\n",
      "|   David| 40|        11| 35000|Software Engineering|         [40.0,11.0]|\n",
      "|  Rachel| 29|         9| 25000|  Product Management|          [29.0,9.0]|\n",
      "|Jennifer| 31|        13| 18000|Research and Deve...|         [31.0,13.0]|\n",
      "+--------+---+----------+------+--------------------+--------------------+\n",
      "\n"
     ]
    }
   ],
   "source": [
    "output.show()"
   ]
  },
  {
   "cell_type": "code",
   "execution_count": 11,
   "metadata": {},
   "outputs": [
    {
     "data": {
      "text/plain": [
       "['Name', 'Age', 'Experience', 'Salary', 'Department', 'Independent Features']"
      ]
     },
     "execution_count": 11,
     "metadata": {},
     "output_type": "execute_result"
    }
   ],
   "source": [
    "output.columns"
   ]
  },
  {
   "cell_type": "code",
   "execution_count": 12,
   "metadata": {},
   "outputs": [],
   "source": [
    "finalized_data = output.select(\"Independent Features\", \"Salary\")"
   ]
  },
  {
   "cell_type": "code",
   "execution_count": 13,
   "metadata": {},
   "outputs": [
    {
     "name": "stdout",
     "output_type": "stream",
     "text": [
      "+--------------------+------+\n",
      "|Independent Features|Salary|\n",
      "+--------------------+------+\n",
      "|          [25.0,7.0]| 20000|\n",
      "|          [28.0,9.0]|  8000|\n",
      "|          [40.0,8.0]| 25000|\n",
      "|          [29.0,6.0]| 18000|\n",
      "|         [31.0,10.0]| 12000|\n",
      "|         [25.0,10.0]| 25000|\n",
      "|         [28.0,12.0]| 12000|\n",
      "|         [40.0,11.0]| 35000|\n",
      "|          [29.0,9.0]| 25000|\n",
      "|         [31.0,13.0]| 18000|\n",
      "+--------------------+------+\n",
      "\n"
     ]
    }
   ],
   "source": [
    "finalized_data.show()"
   ]
  },
  {
   "cell_type": "code",
   "execution_count": 14,
   "metadata": {},
   "outputs": [],
   "source": [
    "from pyspark.ml.regression import LinearRegression\n",
    "train_data, test_data =finalized_data.randomSplit([0.75,0.25])\n",
    "regressor = LinearRegression(featuresCol=\"Independent Features\", labelCol='Salary')\n",
    "regressor = regressor.fit(train_data)"
   ]
  },
  {
   "cell_type": "code",
   "execution_count": 15,
   "metadata": {},
   "outputs": [
    {
     "data": {
      "text/plain": [
       "DenseVector([1375.3235, 94.9744])"
      ]
     },
     "execution_count": 15,
     "metadata": {},
     "output_type": "execute_result"
    }
   ],
   "source": [
    "regressor.coefficients"
   ]
  },
  {
   "cell_type": "code",
   "execution_count": 16,
   "metadata": {},
   "outputs": [
    {
     "data": {
      "text/plain": [
       "-26347.81823653385"
      ]
     },
     "execution_count": 16,
     "metadata": {},
     "output_type": "execute_result"
    }
   ],
   "source": [
    "regressor.intercept"
   ]
  },
  {
   "cell_type": "code",
   "execution_count": 17,
   "metadata": {},
   "outputs": [],
   "source": [
    "pred_results = regressor.evaluate(test_data)"
   ]
  },
  {
   "cell_type": "code",
   "execution_count": 18,
   "metadata": {},
   "outputs": [
    {
     "name": "stdout",
     "output_type": "stream",
     "text": [
      "+--------------------+------+------------------+\n",
      "|Independent Features|Salary|        prediction|\n",
      "+--------------------+------+------------------+\n",
      "|          [25.0,7.0]| 20000| 8700.090279867421|\n",
      "|         [25.0,10.0]| 25000| 8985.013541979984|\n",
      "|          [28.0,9.0]|  8000| 13016.00962985243|\n",
      "|         [28.0,12.0]| 12000|13300.932891964992|\n",
      "|          [29.0,9.0]| 25000|14391.333132711312|\n",
      "+--------------------+------+------------------+\n",
      "\n"
     ]
    }
   ],
   "source": [
    "pred_results.predictions.show()"
   ]
  },
  {
   "cell_type": "code",
   "execution_count": 19,
   "metadata": {},
   "outputs": [
    {
     "data": {
      "text/plain": [
       "(8848.101113451741, 10232.930593246381)"
      ]
     },
     "execution_count": 19,
     "metadata": {},
     "output_type": "execute_result"
    }
   ],
   "source": [
    "pred_results.meanAbsoluteError, pred_results.rootMeanSquaredError"
   ]
  },
  {
   "cell_type": "code",
   "execution_count": null,
   "metadata": {},
   "outputs": [],
   "source": []
  }
 ],
 "metadata": {
  "kernelspec": {
   "display_name": "venv",
   "language": "python",
   "name": "python3"
  },
  "language_info": {
   "codemirror_mode": {
    "name": "ipython",
    "version": 3
   },
   "file_extension": ".py",
   "mimetype": "text/x-python",
   "name": "python",
   "nbconvert_exporter": "python",
   "pygments_lexer": "ipython3",
   "version": "3.11.9"
  }
 },
 "nbformat": 4,
 "nbformat_minor": 2
}
