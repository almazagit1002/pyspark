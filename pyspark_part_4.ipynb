{
 "cells": [
  {
   "cell_type": "code",
   "execution_count": 1,
   "metadata": {},
   "outputs": [],
   "source": [
    "from pyspark.sql import SparkSession\n",
    "import os\n",
    "os.environ[\"JAVA_HOME\"] = \"C:\\Program Files\\Java\\jdk-22\""
   ]
  },
  {
   "cell_type": "code",
   "execution_count": 5,
   "metadata": {},
   "outputs": [],
   "source": [
    "spark  = SparkSession.builder.appName('Aggregation').getOrCreate()"
   ]
  },
  {
   "cell_type": "code",
   "execution_count": 24,
   "metadata": {},
   "outputs": [],
   "source": [
    "df_pyspark = spark.read.csv('aggregations.csv',header=True,inferSchema=True)"
   ]
  },
  {
   "cell_type": "code",
   "execution_count": 25,
   "metadata": {},
   "outputs": [
    {
     "name": "stdout",
     "output_type": "stream",
     "text": [
      "+--------+---+----------+------+--------------------+\n",
      "|    Name|Age|Experience|Salary|          Department|\n",
      "+--------+---+----------+------+--------------------+\n",
      "|    John| 25|         7| 20000|        Data Science|\n",
      "| Michael| 28|         9|  8000|    Data Engineering|\n",
      "|   David| 40|         8| 25000|Software Engineering|\n",
      "|  Rachel| 29|         6| 18000|  Product Management|\n",
      "|Jennifer| 31|        10| 12000|Research and Deve...|\n",
      "|    John| 25|        10| 25000|        Data Science|\n",
      "| Michael| 28|        12| 12000|    Data Engineering|\n",
      "|   David| 40|        11| 35000|Software Engineering|\n",
      "|  Rachel| 29|         9| 25000|  Product Management|\n",
      "|Jennifer| 31|        13| 18000|Research and Deve...|\n",
      "+--------+---+----------+------+--------------------+\n",
      "\n"
     ]
    }
   ],
   "source": [
    "#drop all nulls\n",
    "df_pyspark = df_pyspark.na.drop()\n",
    "df_pyspark.show()"
   ]
  },
  {
   "cell_type": "code",
   "execution_count": 26,
   "metadata": {},
   "outputs": [
    {
     "name": "stdout",
     "output_type": "stream",
     "text": [
      "root\n",
      " |-- Name: string (nullable = true)\n",
      " |-- Age: integer (nullable = true)\n",
      " |-- Experience: integer (nullable = true)\n",
      " |-- Salary: integer (nullable = true)\n",
      " |-- Department: string (nullable = true)\n",
      "\n"
     ]
    }
   ],
   "source": [
    "df_pyspark.printSchema()"
   ]
  },
  {
   "cell_type": "code",
   "execution_count": 27,
   "metadata": {},
   "outputs": [],
   "source": [
    "# Assuming df_pyspark is your DataFrame\n",
    "df_pyspark = df_pyspark.drop('Age', 'Experience')\n"
   ]
  },
  {
   "cell_type": "code",
   "execution_count": 28,
   "metadata": {},
   "outputs": [
    {
     "name": "stdout",
     "output_type": "stream",
     "text": [
      "+--------+-----------+\n",
      "|    Name|sum(Salary)|\n",
      "+--------+-----------+\n",
      "|Jennifer|      30000|\n",
      "| Michael|      20000|\n",
      "|    John|      45000|\n",
      "|  Rachel|      43000|\n",
      "|   David|      60000|\n",
      "+--------+-----------+\n",
      "\n"
     ]
    }
   ],
   "source": [
    "## Groupby\n",
    "\n",
    "df_pyspark.groupBy('Name').sum().show()"
   ]
  },
  {
   "cell_type": "code",
   "execution_count": 29,
   "metadata": {},
   "outputs": [
    {
     "name": "stdout",
     "output_type": "stream",
     "text": [
      "+--------------------+-----------+\n",
      "|          Department|sum(Salary)|\n",
      "+--------------------+-----------+\n",
      "|  Product Management|      43000|\n",
      "|    Data Engineering|      20000|\n",
      "|Research and Deve...|      30000|\n",
      "|Software Engineering|      60000|\n",
      "|        Data Science|      45000|\n",
      "+--------------------+-----------+\n",
      "\n"
     ]
    }
   ],
   "source": [
    "### group departmenst wich give maximum salary\n",
    "df_pyspark.groupBy('Department').sum().show()"
   ]
  },
  {
   "cell_type": "code",
   "execution_count": 30,
   "metadata": {},
   "outputs": [
    {
     "name": "stdout",
     "output_type": "stream",
     "text": [
      "+--------------------+-----------+\n",
      "|          Department|avg(Salary)|\n",
      "+--------------------+-----------+\n",
      "|  Product Management|    21500.0|\n",
      "|    Data Engineering|    10000.0|\n",
      "|Research and Deve...|    15000.0|\n",
      "|Software Engineering|    30000.0|\n",
      "|        Data Science|    22500.0|\n",
      "+--------------------+-----------+\n",
      "\n"
     ]
    }
   ],
   "source": [
    "df_pyspark.groupBy('Department').mean().show()"
   ]
  },
  {
   "cell_type": "code",
   "execution_count": 31,
   "metadata": {},
   "outputs": [
    {
     "name": "stdout",
     "output_type": "stream",
     "text": [
      "+--------------------+-----+\n",
      "|          Department|count|\n",
      "+--------------------+-----+\n",
      "|  Product Management|    2|\n",
      "|    Data Engineering|    2|\n",
      "|Research and Deve...|    2|\n",
      "|Software Engineering|    2|\n",
      "|        Data Science|    2|\n",
      "+--------------------+-----+\n",
      "\n"
     ]
    }
   ],
   "source": [
    "df_pyspark.groupBy('Department').count().show()"
   ]
  },
  {
   "cell_type": "code",
   "execution_count": 32,
   "metadata": {},
   "outputs": [
    {
     "name": "stdout",
     "output_type": "stream",
     "text": [
      "+-----------+\n",
      "|sum(Salary)|\n",
      "+-----------+\n",
      "|     198000|\n",
      "+-----------+\n",
      "\n"
     ]
    }
   ],
   "source": [
    "df_pyspark.agg({'Salary':'sum'}).show()"
   ]
  },
  {
   "cell_type": "code",
   "execution_count": 33,
   "metadata": {},
   "outputs": [
    {
     "name": "stdout",
     "output_type": "stream",
     "text": [
      "+--------+-----------+\n",
      "|    Name|max(Salary)|\n",
      "+--------+-----------+\n",
      "|Jennifer|      18000|\n",
      "| Michael|      12000|\n",
      "|    John|      25000|\n",
      "|  Rachel|      25000|\n",
      "|   David|      35000|\n",
      "+--------+-----------+\n",
      "\n"
     ]
    }
   ],
   "source": [
    "df_pyspark.groupBy('Name').max().show()"
   ]
  },
  {
   "cell_type": "code",
   "execution_count": 34,
   "metadata": {},
   "outputs": [
    {
     "name": "stdout",
     "output_type": "stream",
     "text": [
      "+--------+-----------+\n",
      "|    Name|min(Salary)|\n",
      "+--------+-----------+\n",
      "|Jennifer|      12000|\n",
      "| Michael|       8000|\n",
      "|    John|      20000|\n",
      "|  Rachel|      18000|\n",
      "|   David|      25000|\n",
      "+--------+-----------+\n",
      "\n"
     ]
    }
   ],
   "source": [
    "df_pyspark.groupBy('Name').min().show()"
   ]
  },
  {
   "cell_type": "code",
   "execution_count": 35,
   "metadata": {},
   "outputs": [
    {
     "name": "stdout",
     "output_type": "stream",
     "text": [
      "+--------+-----------+\n",
      "|    Name|avg(Salary)|\n",
      "+--------+-----------+\n",
      "|Jennifer|    15000.0|\n",
      "| Michael|    10000.0|\n",
      "|    John|    22500.0|\n",
      "|  Rachel|    21500.0|\n",
      "|   David|    30000.0|\n",
      "+--------+-----------+\n",
      "\n"
     ]
    }
   ],
   "source": [
    "df_pyspark.groupBy('Name').avg().show()"
   ]
  },
  {
   "cell_type": "code",
   "execution_count": null,
   "metadata": {},
   "outputs": [],
   "source": []
  }
 ],
 "metadata": {
  "kernelspec": {
   "display_name": "venv",
   "language": "python",
   "name": "python3"
  },
  "language_info": {
   "codemirror_mode": {
    "name": "ipython",
    "version": 3
   },
   "file_extension": ".py",
   "mimetype": "text/x-python",
   "name": "python",
   "nbconvert_exporter": "python",
   "pygments_lexer": "ipython3",
   "version": "3.11.9"
  }
 },
 "nbformat": 4,
 "nbformat_minor": 2
}
